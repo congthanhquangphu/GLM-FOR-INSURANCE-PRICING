{
 "cells": [
  {
   "cell_type": "code",
   "execution_count": 1,
   "id": "79b8e3f7",
   "metadata": {},
   "outputs": [],
   "source": [
    "import numpy as np\n",
    "import pandas as pd\n",
    "from unidecode import unidecode"
   ]
  },
  {
   "cell_type": "code",
   "execution_count": 2,
   "id": "85ade0ed",
   "metadata": {
    "scrolled": false
   },
   "outputs": [
    {
     "name": "stderr",
     "output_type": "stream",
     "text": [
      "C:\\Users\\hello\\anaconda3\\lib\\site-packages\\IPython\\core\\interactiveshell.py:3165: DtypeWarning: Columns (22,24,25,26,27) have mixed types.Specify dtype option on import or set low_memory=False.\n",
      "  has_raised = await self.run_ast_nodes(code_ast.body, cell_name,\n"
     ]
    }
   ],
   "source": [
    "a = pd.read_csv('GWP 3.csv')\n",
    "b = pd.read_csv('CLAIM 3.csv')\n",
    "G3 = a.copy()\n",
    "C3 = b.copy()"
   ]
  },
  {
   "cell_type": "code",
   "execution_count": 3,
   "id": "a4f2bcf9",
   "metadata": {},
   "outputs": [
    {
     "data": {
      "text/html": [
       "<div>\n",
       "<style scoped>\n",
       "    .dataframe tbody tr th:only-of-type {\n",
       "        vertical-align: middle;\n",
       "    }\n",
       "\n",
       "    .dataframe tbody tr th {\n",
       "        vertical-align: top;\n",
       "    }\n",
       "\n",
       "    .dataframe thead th {\n",
       "        text-align: right;\n",
       "    }\n",
       "</style>\n",
       "<table border=\"1\" class=\"dataframe\">\n",
       "  <thead>\n",
       "    <tr style=\"text-align: right;\">\n",
       "      <th></th>\n",
       "      <th>DVI_QL</th>\n",
       "      <th>DEPARTMENT</th>\n",
       "      <th>POLICY_TYPE</th>\n",
       "      <th>POLICY_ID</th>\n",
       "      <th>CUSTOMER_ID</th>\n",
       "      <th>KIEU_KT</th>\n",
       "      <th>MA_KT</th>\n",
       "      <th>KIEU_GT</th>\n",
       "      <th>MA_GT</th>\n",
       "      <th>MA_DINHMUC</th>\n",
       "      <th>...</th>\n",
       "      <th>PREMIUM</th>\n",
       "      <th>COMMISSION</th>\n",
       "      <th>PHI_TA</th>\n",
       "      <th>HHONG_TAI</th>\n",
       "      <th>DISTRIBUTION_CHANEL</th>\n",
       "      <th>SUM_INSURED</th>\n",
       "      <th>CNTTYPE</th>\n",
       "      <th>CUSTOMER_TYPE</th>\n",
       "      <th>POLICY_YEAR</th>\n",
       "      <th>PROVINCE</th>\n",
       "    </tr>\n",
       "  </thead>\n",
       "  <tbody>\n",
       "    <tr>\n",
       "      <th>0</th>\n",
       "      <td>9</td>\n",
       "      <td>PBT</td>\n",
       "      <td>G</td>\n",
       "      <td>OT+068084</td>\n",
       "      <td>00167PBT09</td>\n",
       "      <td>D</td>\n",
       "      <td>004DN09</td>\n",
       "      <td>N</td>\n",
       "      <td></td>\n",
       "      <td>A21</td>\n",
       "      <td>...</td>\n",
       "      <td>35,545,455</td>\n",
       "      <td>3,554,546</td>\n",
       "      <td>0</td>\n",
       "      <td>0</td>\n",
       "      <td>DAI LY</td>\n",
       "      <td>1.000000e+09</td>\n",
       "      <td>VSC</td>\n",
       "      <td>CTYTNHH</td>\n",
       "      <td>#VALUE!</td>\n",
       "      <td>Khac</td>\n",
       "    </tr>\n",
       "  </tbody>\n",
       "</table>\n",
       "<p>1 rows × 34 columns</p>\n",
       "</div>"
      ],
      "text/plain": [
       "   DVI_QL DEPARTMENT POLICY_TYPE  POLICY_ID CUSTOMER_ID KIEU_KT    MA_KT  \\\n",
       "0       9        PBT           G  OT+068084  00167PBT09       D  004DN09   \n",
       "\n",
       "  KIEU_GT MA_GT MA_DINHMUC  ...     PREMIUM COMMISSION PHI_TA HHONG_TAI  \\\n",
       "0       N              A21  ...  35,545,455  3,554,546      0         0   \n",
       "\n",
       "  DISTRIBUTION_CHANEL   SUM_INSURED CNTTYPE  CUSTOMER_TYPE  POLICY_YEAR  \\\n",
       "0              DAI LY  1.000000e+09     VSC        CTYTNHH      #VALUE!   \n",
       "\n",
       "  PROVINCE  \n",
       "0     Khac  \n",
       "\n",
       "[1 rows x 34 columns]"
      ]
     },
     "execution_count": 3,
     "metadata": {},
     "output_type": "execute_result"
    }
   ],
   "source": [
    "G3.head(1)"
   ]
  },
  {
   "cell_type": "code",
   "execution_count": 4,
   "id": "73ac14cb",
   "metadata": {},
   "outputs": [
    {
     "data": {
      "text/plain": [
       "Index(['DVI_QL', 'DEPARTMENT', 'POLICY_TYPE', 'POLICY_ID', 'CUSTOMER_ID',\n",
       "       'KIEU_KT', 'MA_KT', 'KIEU_GT', 'MA_GT', 'MA_DINHMUC', 'CERTIFICATE',\n",
       "       'INPUT_DATE', 'START_DATE', 'END_DATE', 'TYPE_CAR', 'GROUP_CAR', 'USE',\n",
       "       'CAPACITY', 'NB_SEATS', 'CAR_MAKER', 'CAR_MODEL', 'REG_NUMBER',\n",
       "       'MANUFACTURE_YEAR', 'LH_NV', 'PREMIUM', 'COMMISSION', 'PHI_TA',\n",
       "       'HHONG_TAI', 'DISTRIBUTION_CHANEL', 'SUM_INSURED', 'CNTTYPE',\n",
       "       'CUSTOMER_TYPE', 'POLICY_YEAR', 'PROVINCE'],\n",
       "      dtype='object')"
      ]
     },
     "execution_count": 4,
     "metadata": {},
     "output_type": "execute_result"
    }
   ],
   "source": [
    "G3.columns"
   ]
  },
  {
   "cell_type": "code",
   "execution_count": 5,
   "id": "e9b79af4",
   "metadata": {},
   "outputs": [],
   "source": [
    "raw_G3 = G3[['CERTIFICATE','REG_NUMBER','START_DATE','END_DATE','MANUFACTURE_YEAR','USE','CAPACITY','NB_SEATS','CAR_MAKER','CAR_MODEL','SUM_INSURED','PROVINCE']]"
   ]
  },
  {
   "cell_type": "code",
   "execution_count": 6,
   "id": "749d7c4a",
   "metadata": {
    "scrolled": true
   },
   "outputs": [
    {
     "name": "stderr",
     "output_type": "stream",
     "text": [
      "<ipython-input-6-b96b150617c7>:1: SettingWithCopyWarning: \n",
      "A value is trying to be set on a copy of a slice from a DataFrame.\n",
      "Try using .loc[row_indexer,col_indexer] = value instead\n",
      "\n",
      "See the caveats in the documentation: https://pandas.pydata.org/pandas-docs/stable/user_guide/indexing.html#returning-a-view-versus-a-copy\n",
      "  raw_G3['START_DATE']= pd.to_datetime(raw_G3['START_DATE'])\n",
      "<ipython-input-6-b96b150617c7>:2: SettingWithCopyWarning: \n",
      "A value is trying to be set on a copy of a slice from a DataFrame.\n",
      "Try using .loc[row_indexer,col_indexer] = value instead\n",
      "\n",
      "See the caveats in the documentation: https://pandas.pydata.org/pandas-docs/stable/user_guide/indexing.html#returning-a-view-versus-a-copy\n",
      "  raw_G3['END_DATE']= pd.to_datetime(raw_G3['END_DATE'])\n"
     ]
    }
   ],
   "source": [
    "raw_G3['START_DATE']= pd.to_datetime(raw_G3['START_DATE'])\n",
    "raw_G3['END_DATE']= pd.to_datetime(raw_G3['END_DATE'])"
   ]
  },
  {
   "cell_type": "code",
   "execution_count": 7,
   "id": "0e7c358c",
   "metadata": {},
   "outputs": [
    {
     "data": {
      "text/html": [
       "<div>\n",
       "<style scoped>\n",
       "    .dataframe tbody tr th:only-of-type {\n",
       "        vertical-align: middle;\n",
       "    }\n",
       "\n",
       "    .dataframe tbody tr th {\n",
       "        vertical-align: top;\n",
       "    }\n",
       "\n",
       "    .dataframe thead th {\n",
       "        text-align: right;\n",
       "    }\n",
       "</style>\n",
       "<table border=\"1\" class=\"dataframe\">\n",
       "  <thead>\n",
       "    <tr style=\"text-align: right;\">\n",
       "      <th></th>\n",
       "      <th>START_DATE</th>\n",
       "    </tr>\n",
       "  </thead>\n",
       "  <tbody>\n",
       "    <tr>\n",
       "      <th>0</th>\n",
       "      <td>2015-04-27</td>\n",
       "    </tr>\n",
       "    <tr>\n",
       "      <th>1</th>\n",
       "      <td>2015-04-25</td>\n",
       "    </tr>\n",
       "    <tr>\n",
       "      <th>2</th>\n",
       "      <td>2015-05-19</td>\n",
       "    </tr>\n",
       "    <tr>\n",
       "      <th>3</th>\n",
       "      <td>2015-05-10</td>\n",
       "    </tr>\n",
       "    <tr>\n",
       "      <th>4</th>\n",
       "      <td>2015-01-12</td>\n",
       "    </tr>\n",
       "    <tr>\n",
       "      <th>5</th>\n",
       "      <td>2015-10-27</td>\n",
       "    </tr>\n",
       "    <tr>\n",
       "      <th>6</th>\n",
       "      <td>2015-10-22</td>\n",
       "    </tr>\n",
       "    <tr>\n",
       "      <th>7</th>\n",
       "      <td>2015-12-15</td>\n",
       "    </tr>\n",
       "    <tr>\n",
       "      <th>8</th>\n",
       "      <td>2016-01-15</td>\n",
       "    </tr>\n",
       "    <tr>\n",
       "      <th>9</th>\n",
       "      <td>2016-01-29</td>\n",
       "    </tr>\n",
       "    <tr>\n",
       "      <th>10</th>\n",
       "      <td>2016-02-03</td>\n",
       "    </tr>\n",
       "    <tr>\n",
       "      <th>11</th>\n",
       "      <td>2016-04-29</td>\n",
       "    </tr>\n",
       "    <tr>\n",
       "      <th>12</th>\n",
       "      <td>2016-05-24</td>\n",
       "    </tr>\n",
       "    <tr>\n",
       "      <th>13</th>\n",
       "      <td>2016-08-07</td>\n",
       "    </tr>\n",
       "    <tr>\n",
       "      <th>14</th>\n",
       "      <td>2016-07-18</td>\n",
       "    </tr>\n",
       "    <tr>\n",
       "      <th>15</th>\n",
       "      <td>2016-06-08</td>\n",
       "    </tr>\n",
       "    <tr>\n",
       "      <th>16</th>\n",
       "      <td>2016-08-29</td>\n",
       "    </tr>\n",
       "    <tr>\n",
       "      <th>17</th>\n",
       "      <td>2016-06-26</td>\n",
       "    </tr>\n",
       "    <tr>\n",
       "      <th>18</th>\n",
       "      <td>2016-10-29</td>\n",
       "    </tr>\n",
       "    <tr>\n",
       "      <th>19</th>\n",
       "      <td>2016-12-16</td>\n",
       "    </tr>\n",
       "    <tr>\n",
       "      <th>20</th>\n",
       "      <td>2017-11-01</td>\n",
       "    </tr>\n",
       "    <tr>\n",
       "      <th>21</th>\n",
       "      <td>2017-02-24</td>\n",
       "    </tr>\n",
       "    <tr>\n",
       "      <th>22</th>\n",
       "      <td>2014-04-22</td>\n",
       "    </tr>\n",
       "    <tr>\n",
       "      <th>23</th>\n",
       "      <td>2017-03-15</td>\n",
       "    </tr>\n",
       "    <tr>\n",
       "      <th>24</th>\n",
       "      <td>2016-05-24</td>\n",
       "    </tr>\n",
       "    <tr>\n",
       "      <th>25</th>\n",
       "      <td>2016-12-19</td>\n",
       "    </tr>\n",
       "    <tr>\n",
       "      <th>26</th>\n",
       "      <td>2017-02-27</td>\n",
       "    </tr>\n",
       "    <tr>\n",
       "      <th>27</th>\n",
       "      <td>2016-12-25</td>\n",
       "    </tr>\n",
       "    <tr>\n",
       "      <th>28</th>\n",
       "      <td>2016-05-13</td>\n",
       "    </tr>\n",
       "    <tr>\n",
       "      <th>29</th>\n",
       "      <td>2014-08-10</td>\n",
       "    </tr>\n",
       "    <tr>\n",
       "      <th>30</th>\n",
       "      <td>2016-03-15</td>\n",
       "    </tr>\n",
       "    <tr>\n",
       "      <th>31</th>\n",
       "      <td>2015-01-25</td>\n",
       "    </tr>\n",
       "    <tr>\n",
       "      <th>32</th>\n",
       "      <td>2015-05-22</td>\n",
       "    </tr>\n",
       "    <tr>\n",
       "      <th>33</th>\n",
       "      <td>2016-03-06</td>\n",
       "    </tr>\n",
       "    <tr>\n",
       "      <th>34</th>\n",
       "      <td>2016-07-30</td>\n",
       "    </tr>\n",
       "    <tr>\n",
       "      <th>35</th>\n",
       "      <td>2017-01-19</td>\n",
       "    </tr>\n",
       "    <tr>\n",
       "      <th>36</th>\n",
       "      <td>2015-11-07</td>\n",
       "    </tr>\n",
       "    <tr>\n",
       "      <th>37</th>\n",
       "      <td>2014-03-19</td>\n",
       "    </tr>\n",
       "    <tr>\n",
       "      <th>38</th>\n",
       "      <td>2016-07-29</td>\n",
       "    </tr>\n",
       "    <tr>\n",
       "      <th>39</th>\n",
       "      <td>2017-01-22</td>\n",
       "    </tr>\n",
       "    <tr>\n",
       "      <th>40</th>\n",
       "      <td>2015-12-05</td>\n",
       "    </tr>\n",
       "    <tr>\n",
       "      <th>41</th>\n",
       "      <td>2017-11-07</td>\n",
       "    </tr>\n",
       "    <tr>\n",
       "      <th>42</th>\n",
       "      <td>2015-08-12</td>\n",
       "    </tr>\n",
       "    <tr>\n",
       "      <th>43</th>\n",
       "      <td>2017-03-21</td>\n",
       "    </tr>\n",
       "    <tr>\n",
       "      <th>44</th>\n",
       "      <td>2014-06-24</td>\n",
       "    </tr>\n",
       "    <tr>\n",
       "      <th>45</th>\n",
       "      <td>2017-10-02</td>\n",
       "    </tr>\n",
       "    <tr>\n",
       "      <th>46</th>\n",
       "      <td>2016-12-23</td>\n",
       "    </tr>\n",
       "    <tr>\n",
       "      <th>47</th>\n",
       "      <td>2016-10-19</td>\n",
       "    </tr>\n",
       "    <tr>\n",
       "      <th>48</th>\n",
       "      <td>2017-01-01</td>\n",
       "    </tr>\n",
       "    <tr>\n",
       "      <th>49</th>\n",
       "      <td>2017-07-06</td>\n",
       "    </tr>\n",
       "  </tbody>\n",
       "</table>\n",
       "</div>"
      ],
      "text/plain": [
       "   START_DATE\n",
       "0  2015-04-27\n",
       "1  2015-04-25\n",
       "2  2015-05-19\n",
       "3  2015-05-10\n",
       "4  2015-01-12\n",
       "5  2015-10-27\n",
       "6  2015-10-22\n",
       "7  2015-12-15\n",
       "8  2016-01-15\n",
       "9  2016-01-29\n",
       "10 2016-02-03\n",
       "11 2016-04-29\n",
       "12 2016-05-24\n",
       "13 2016-08-07\n",
       "14 2016-07-18\n",
       "15 2016-06-08\n",
       "16 2016-08-29\n",
       "17 2016-06-26\n",
       "18 2016-10-29\n",
       "19 2016-12-16\n",
       "20 2017-11-01\n",
       "21 2017-02-24\n",
       "22 2014-04-22\n",
       "23 2017-03-15\n",
       "24 2016-05-24\n",
       "25 2016-12-19\n",
       "26 2017-02-27\n",
       "27 2016-12-25\n",
       "28 2016-05-13\n",
       "29 2014-08-10\n",
       "30 2016-03-15\n",
       "31 2015-01-25\n",
       "32 2015-05-22\n",
       "33 2016-03-06\n",
       "34 2016-07-30\n",
       "35 2017-01-19\n",
       "36 2015-11-07\n",
       "37 2014-03-19\n",
       "38 2016-07-29\n",
       "39 2017-01-22\n",
       "40 2015-12-05\n",
       "41 2017-11-07\n",
       "42 2015-08-12\n",
       "43 2017-03-21\n",
       "44 2014-06-24\n",
       "45 2017-10-02\n",
       "46 2016-12-23\n",
       "47 2016-10-19\n",
       "48 2017-01-01\n",
       "49 2017-07-06"
      ]
     },
     "execution_count": 7,
     "metadata": {},
     "output_type": "execute_result"
    }
   ],
   "source": [
    "raw_G3[['START_DATE']].head(50)"
   ]
  },
  {
   "cell_type": "code",
   "execution_count": 8,
   "id": "231dc80d",
   "metadata": {
    "scrolled": false
   },
   "outputs": [
    {
     "name": "stdout",
     "output_type": "stream",
     "text": [
      "<class 'pandas.core.frame.DataFrame'>\n",
      "RangeIndex: 100454 entries, 0 to 100453\n",
      "Data columns (total 12 columns):\n",
      " #   Column            Non-Null Count   Dtype         \n",
      "---  ------            --------------   -----         \n",
      " 0   CERTIFICATE       100454 non-null  object        \n",
      " 1   REG_NUMBER        100425 non-null  object        \n",
      " 2   START_DATE        100454 non-null  datetime64[ns]\n",
      " 3   END_DATE          100454 non-null  datetime64[ns]\n",
      " 4   MANUFACTURE_YEAR  100454 non-null  object        \n",
      " 5   USE               100454 non-null  object        \n",
      " 6   CAPACITY          100454 non-null  int64         \n",
      " 7   NB_SEATS          100454 non-null  int64         \n",
      " 8   CAR_MAKER         100454 non-null  object        \n",
      " 9   CAR_MODEL         100453 non-null  object        \n",
      " 10  SUM_INSURED       100452 non-null  float64       \n",
      " 11  PROVINCE          100454 non-null  object        \n",
      "dtypes: datetime64[ns](2), float64(1), int64(2), object(7)\n",
      "memory usage: 9.2+ MB\n"
     ]
    }
   ],
   "source": [
    "raw_G3.info()"
   ]
  },
  {
   "cell_type": "code",
   "execution_count": 9,
   "id": "8f11ae08",
   "metadata": {},
   "outputs": [
    {
     "data": {
      "text/html": [
       "<div>\n",
       "<style scoped>\n",
       "    .dataframe tbody tr th:only-of-type {\n",
       "        vertical-align: middle;\n",
       "    }\n",
       "\n",
       "    .dataframe tbody tr th {\n",
       "        vertical-align: top;\n",
       "    }\n",
       "\n",
       "    .dataframe thead th {\n",
       "        text-align: right;\n",
       "    }\n",
       "</style>\n",
       "<table border=\"1\" class=\"dataframe\">\n",
       "  <thead>\n",
       "    <tr style=\"text-align: right;\">\n",
       "      <th></th>\n",
       "      <th>DVI_QL</th>\n",
       "      <th>DEPARTMENT</th>\n",
       "      <th>POLICY_TYPE</th>\n",
       "      <th>POLICY_ID</th>\n",
       "      <th>CUSTOMER_ID</th>\n",
       "      <th>KIEU_KT</th>\n",
       "      <th>MA_KT</th>\n",
       "      <th>KIEU_GT</th>\n",
       "      <th>MA_GT</th>\n",
       "      <th>MA_DINHMUC</th>\n",
       "      <th>...</th>\n",
       "      <th>INPUT_CLAIM_DATE</th>\n",
       "      <th>OCCUR_DATE</th>\n",
       "      <th>ANOU_DATE</th>\n",
       "      <th>PAY_DATE</th>\n",
       "      <th>NOTE</th>\n",
       "      <th>PAID_CLAIM</th>\n",
       "      <th>INCUR_CLAIM</th>\n",
       "      <th>DISTRIBUTION_CHANEL</th>\n",
       "      <th>SUM_INSURED</th>\n",
       "      <th>CLAIM_TYPE</th>\n",
       "    </tr>\n",
       "  </thead>\n",
       "  <tbody>\n",
       "    <tr>\n",
       "      <th>0</th>\n",
       "      <td>2</td>\n",
       "      <td>NaN</td>\n",
       "      <td>G</td>\n",
       "      <td>351/14/HD-1131/02-PCR</td>\n",
       "      <td>00411PCR02</td>\n",
       "      <td>D</td>\n",
       "      <td>001PCR02</td>\n",
       "      <td>N</td>\n",
       "      <td></td>\n",
       "      <td>A21</td>\n",
       "      <td>...</td>\n",
       "      <td>16-07-14</td>\n",
       "      <td>15-07-14</td>\n",
       "      <td>16-07-14</td>\n",
       "      <td>20140826.0</td>\n",
       "      <td>NaN</td>\n",
       "      <td>600000</td>\n",
       "      <td>0</td>\n",
       "      <td>DAI LY</td>\n",
       "      <td>400,000,000</td>\n",
       "      <td>NaN</td>\n",
       "    </tr>\n",
       "  </tbody>\n",
       "</table>\n",
       "<p>1 rows × 35 columns</p>\n",
       "</div>"
      ],
      "text/plain": [
       "   DVI_QL DEPARTMENT POLICY_TYPE              POLICY_ID CUSTOMER_ID KIEU_KT  \\\n",
       "0       2        NaN           G  351/14/HD-1131/02-PCR  00411PCR02       D   \n",
       "\n",
       "      MA_KT KIEU_GT MA_GT MA_DINHMUC  ... INPUT_CLAIM_DATE OCCUR_DATE  \\\n",
       "0  001PCR02       N              A21  ...         16-07-14   15-07-14   \n",
       "\n",
       "  ANOU_DATE    PAY_DATE NOTE PAID_CLAIM INCUR_CLAIM DISTRIBUTION_CHANEL  \\\n",
       "0  16-07-14  20140826.0  NaN     600000           0              DAI LY   \n",
       "\n",
       "   SUM_INSURED CLAIM_TYPE  \n",
       "0  400,000,000        NaN  \n",
       "\n",
       "[1 rows x 35 columns]"
      ]
     },
     "execution_count": 9,
     "metadata": {},
     "output_type": "execute_result"
    }
   ],
   "source": [
    "C3.head(1)"
   ]
  },
  {
   "cell_type": "code",
   "execution_count": 10,
   "id": "2a66a866",
   "metadata": {},
   "outputs": [
    {
     "data": {
      "text/plain": [
       "Index(['DVI_QL', 'DEPARTMENT', 'POLICY_TYPE', 'POLICY_ID', 'CUSTOMER_ID',\n",
       "       'KIEU_KT', 'MA_KT', 'KIEU_GT', 'MA_GT', 'MA_DINHMUC', 'CERTIFICATE',\n",
       "       'INPUT_DATE', 'START_DATE', 'END_DATE', 'TYPE_CAR', 'GROUP_CAR', 'USE',\n",
       "       'CAPACITY', 'NB_SEATS', 'CAR_MAKER', 'CAR_MODEL', 'REG_NUMBER',\n",
       "       'MANUFACTURE_YEAR', 'LH_NV', 'CLAIM_ID', 'INPUT_CLAIM_DATE',\n",
       "       'OCCUR_DATE', 'ANOU_DATE', 'PAY_DATE', 'NOTE', 'PAID_CLAIM',\n",
       "       'INCUR_CLAIM', 'DISTRIBUTION_CHANEL', 'SUM_INSURED', 'CLAIM_TYPE'],\n",
       "      dtype='object')"
      ]
     },
     "execution_count": 10,
     "metadata": {},
     "output_type": "execute_result"
    }
   ],
   "source": [
    "C3.columns"
   ]
  },
  {
   "cell_type": "code",
   "execution_count": 11,
   "id": "1b730f4c",
   "metadata": {},
   "outputs": [],
   "source": [
    "raw_C3 = C3[['OCCUR_DATE','CERTIFICATE','PAID_CLAIM']]"
   ]
  },
  {
   "cell_type": "code",
   "execution_count": 12,
   "id": "b21b9b25",
   "metadata": {},
   "outputs": [
    {
     "name": "stderr",
     "output_type": "stream",
     "text": [
      "<ipython-input-12-1dfec1082f76>:1: SettingWithCopyWarning: \n",
      "A value is trying to be set on a copy of a slice from a DataFrame.\n",
      "Try using .loc[row_indexer,col_indexer] = value instead\n",
      "\n",
      "See the caveats in the documentation: https://pandas.pydata.org/pandas-docs/stable/user_guide/indexing.html#returning-a-view-versus-a-copy\n",
      "  raw_C3['OCCUR_DATE']= pd.to_datetime(raw_C3['OCCUR_DATE'])\n"
     ]
    }
   ],
   "source": [
    "raw_C3['OCCUR_DATE']= pd.to_datetime(raw_C3['OCCUR_DATE'])"
   ]
  },
  {
   "cell_type": "code",
   "execution_count": 13,
   "id": "a5478164",
   "metadata": {
    "scrolled": true
   },
   "outputs": [
    {
     "name": "stdout",
     "output_type": "stream",
     "text": [
      "<class 'pandas.core.frame.DataFrame'>\n",
      "RangeIndex: 59787 entries, 0 to 59786\n",
      "Data columns (total 3 columns):\n",
      " #   Column       Non-Null Count  Dtype         \n",
      "---  ------       --------------  -----         \n",
      " 0   OCCUR_DATE   59784 non-null  datetime64[ns]\n",
      " 1   CERTIFICATE  59775 non-null  object        \n",
      " 2   PAID_CLAIM   59787 non-null  int64         \n",
      "dtypes: datetime64[ns](1), int64(1), object(1)\n",
      "memory usage: 1.4+ MB\n"
     ]
    }
   ],
   "source": [
    "raw_C3.info()"
   ]
  },
  {
   "cell_type": "code",
   "execution_count": 26,
   "id": "d2aef707",
   "metadata": {},
   "outputs": [
    {
     "ename": "KeyError",
     "evalue": "'START_DATE'",
     "output_type": "error",
     "traceback": [
      "\u001b[1;31m---------------------------------------------------------------------------\u001b[0m",
      "\u001b[1;31mKeyError\u001b[0m                                  Traceback (most recent call last)",
      "\u001b[1;32m~\\anaconda3\\lib\\site-packages\\pandas\\core\\indexes\\base.py\u001b[0m in \u001b[0;36mget_loc\u001b[1;34m(self, key, method, tolerance)\u001b[0m\n\u001b[0;32m   3079\u001b[0m             \u001b[1;32mtry\u001b[0m\u001b[1;33m:\u001b[0m\u001b[1;33m\u001b[0m\u001b[1;33m\u001b[0m\u001b[0m\n\u001b[1;32m-> 3080\u001b[1;33m                 \u001b[1;32mreturn\u001b[0m \u001b[0mself\u001b[0m\u001b[1;33m.\u001b[0m\u001b[0m_engine\u001b[0m\u001b[1;33m.\u001b[0m\u001b[0mget_loc\u001b[0m\u001b[1;33m(\u001b[0m\u001b[0mcasted_key\u001b[0m\u001b[1;33m)\u001b[0m\u001b[1;33m\u001b[0m\u001b[1;33m\u001b[0m\u001b[0m\n\u001b[0m\u001b[0;32m   3081\u001b[0m             \u001b[1;32mexcept\u001b[0m \u001b[0mKeyError\u001b[0m \u001b[1;32mas\u001b[0m \u001b[0merr\u001b[0m\u001b[1;33m:\u001b[0m\u001b[1;33m\u001b[0m\u001b[1;33m\u001b[0m\u001b[0m\n",
      "\u001b[1;32mpandas\\_libs\\index.pyx\u001b[0m in \u001b[0;36mpandas._libs.index.IndexEngine.get_loc\u001b[1;34m()\u001b[0m\n",
      "\u001b[1;32mpandas\\_libs\\index.pyx\u001b[0m in \u001b[0;36mpandas._libs.index.IndexEngine.get_loc\u001b[1;34m()\u001b[0m\n",
      "\u001b[1;32mpandas\\_libs\\hashtable_class_helper.pxi\u001b[0m in \u001b[0;36mpandas._libs.hashtable.PyObjectHashTable.get_item\u001b[1;34m()\u001b[0m\n",
      "\u001b[1;32mpandas\\_libs\\hashtable_class_helper.pxi\u001b[0m in \u001b[0;36mpandas._libs.hashtable.PyObjectHashTable.get_item\u001b[1;34m()\u001b[0m\n",
      "\u001b[1;31mKeyError\u001b[0m: 'START_DATE'",
      "\nThe above exception was the direct cause of the following exception:\n",
      "\u001b[1;31mKeyError\u001b[0m                                  Traceback (most recent call last)",
      "\u001b[1;32m<ipython-input-26-795aad0ab016>\u001b[0m in \u001b[0;36m<module>\u001b[1;34m\u001b[0m\n\u001b[1;32m----> 1\u001b[1;33m \u001b[0mraw_C3\u001b[0m\u001b[1;33m[\u001b[0m\u001b[1;34m'START_DATE'\u001b[0m\u001b[1;33m]\u001b[0m \u001b[1;33m=\u001b[0m \u001b[0mpd\u001b[0m\u001b[1;33m.\u001b[0m\u001b[0mto_datetime\u001b[0m\u001b[1;33m(\u001b[0m\u001b[0mraw_C3\u001b[0m\u001b[1;33m[\u001b[0m\u001b[1;34m'START_DATE'\u001b[0m\u001b[1;33m]\u001b[0m\u001b[1;33m,\u001b[0m\u001b[0mformat\u001b[0m\u001b[1;33m=\u001b[0m\u001b[1;34m'%Y%m%d'\u001b[0m\u001b[1;33m)\u001b[0m\u001b[1;33m\u001b[0m\u001b[1;33m\u001b[0m\u001b[0m\n\u001b[0m",
      "\u001b[1;32m~\\anaconda3\\lib\\site-packages\\pandas\\core\\frame.py\u001b[0m in \u001b[0;36m__getitem__\u001b[1;34m(self, key)\u001b[0m\n\u001b[0;32m   3022\u001b[0m             \u001b[1;32mif\u001b[0m \u001b[0mself\u001b[0m\u001b[1;33m.\u001b[0m\u001b[0mcolumns\u001b[0m\u001b[1;33m.\u001b[0m\u001b[0mnlevels\u001b[0m \u001b[1;33m>\u001b[0m \u001b[1;36m1\u001b[0m\u001b[1;33m:\u001b[0m\u001b[1;33m\u001b[0m\u001b[1;33m\u001b[0m\u001b[0m\n\u001b[0;32m   3023\u001b[0m                 \u001b[1;32mreturn\u001b[0m \u001b[0mself\u001b[0m\u001b[1;33m.\u001b[0m\u001b[0m_getitem_multilevel\u001b[0m\u001b[1;33m(\u001b[0m\u001b[0mkey\u001b[0m\u001b[1;33m)\u001b[0m\u001b[1;33m\u001b[0m\u001b[1;33m\u001b[0m\u001b[0m\n\u001b[1;32m-> 3024\u001b[1;33m             \u001b[0mindexer\u001b[0m \u001b[1;33m=\u001b[0m \u001b[0mself\u001b[0m\u001b[1;33m.\u001b[0m\u001b[0mcolumns\u001b[0m\u001b[1;33m.\u001b[0m\u001b[0mget_loc\u001b[0m\u001b[1;33m(\u001b[0m\u001b[0mkey\u001b[0m\u001b[1;33m)\u001b[0m\u001b[1;33m\u001b[0m\u001b[1;33m\u001b[0m\u001b[0m\n\u001b[0m\u001b[0;32m   3025\u001b[0m             \u001b[1;32mif\u001b[0m \u001b[0mis_integer\u001b[0m\u001b[1;33m(\u001b[0m\u001b[0mindexer\u001b[0m\u001b[1;33m)\u001b[0m\u001b[1;33m:\u001b[0m\u001b[1;33m\u001b[0m\u001b[1;33m\u001b[0m\u001b[0m\n\u001b[0;32m   3026\u001b[0m                 \u001b[0mindexer\u001b[0m \u001b[1;33m=\u001b[0m \u001b[1;33m[\u001b[0m\u001b[0mindexer\u001b[0m\u001b[1;33m]\u001b[0m\u001b[1;33m\u001b[0m\u001b[1;33m\u001b[0m\u001b[0m\n",
      "\u001b[1;32m~\\anaconda3\\lib\\site-packages\\pandas\\core\\indexes\\base.py\u001b[0m in \u001b[0;36mget_loc\u001b[1;34m(self, key, method, tolerance)\u001b[0m\n\u001b[0;32m   3080\u001b[0m                 \u001b[1;32mreturn\u001b[0m \u001b[0mself\u001b[0m\u001b[1;33m.\u001b[0m\u001b[0m_engine\u001b[0m\u001b[1;33m.\u001b[0m\u001b[0mget_loc\u001b[0m\u001b[1;33m(\u001b[0m\u001b[0mcasted_key\u001b[0m\u001b[1;33m)\u001b[0m\u001b[1;33m\u001b[0m\u001b[1;33m\u001b[0m\u001b[0m\n\u001b[0;32m   3081\u001b[0m             \u001b[1;32mexcept\u001b[0m \u001b[0mKeyError\u001b[0m \u001b[1;32mas\u001b[0m \u001b[0merr\u001b[0m\u001b[1;33m:\u001b[0m\u001b[1;33m\u001b[0m\u001b[1;33m\u001b[0m\u001b[0m\n\u001b[1;32m-> 3082\u001b[1;33m                 \u001b[1;32mraise\u001b[0m \u001b[0mKeyError\u001b[0m\u001b[1;33m(\u001b[0m\u001b[0mkey\u001b[0m\u001b[1;33m)\u001b[0m \u001b[1;32mfrom\u001b[0m \u001b[0merr\u001b[0m\u001b[1;33m\u001b[0m\u001b[1;33m\u001b[0m\u001b[0m\n\u001b[0m\u001b[0;32m   3083\u001b[0m \u001b[1;33m\u001b[0m\u001b[0m\n\u001b[0;32m   3084\u001b[0m         \u001b[1;32mif\u001b[0m \u001b[0mtolerance\u001b[0m \u001b[1;32mis\u001b[0m \u001b[1;32mnot\u001b[0m \u001b[1;32mNone\u001b[0m\u001b[1;33m:\u001b[0m\u001b[1;33m\u001b[0m\u001b[1;33m\u001b[0m\u001b[0m\n",
      "\u001b[1;31mKeyError\u001b[0m: 'START_DATE'"
     ]
    }
   ],
   "source": [
    "raw_C3['START_DATE'] = pd.to_datetime(raw_C3['START_DATE'],format='%Y%m%d')"
   ]
  },
  {
   "cell_type": "code",
   "execution_count": 14,
   "id": "eb82cbf0",
   "metadata": {
    "scrolled": true
   },
   "outputs": [
    {
     "data": {
      "text/html": [
       "<div>\n",
       "<style scoped>\n",
       "    .dataframe tbody tr th:only-of-type {\n",
       "        vertical-align: middle;\n",
       "    }\n",
       "\n",
       "    .dataframe tbody tr th {\n",
       "        vertical-align: top;\n",
       "    }\n",
       "\n",
       "    .dataframe thead th {\n",
       "        text-align: right;\n",
       "    }\n",
       "</style>\n",
       "<table border=\"1\" class=\"dataframe\">\n",
       "  <thead>\n",
       "    <tr style=\"text-align: right;\">\n",
       "      <th></th>\n",
       "      <th>CERTIFICATE</th>\n",
       "      <th>REG_NUMBER</th>\n",
       "      <th>START_DATE</th>\n",
       "      <th>END_DATE</th>\n",
       "      <th>MANUFACTURE_YEAR</th>\n",
       "      <th>USE</th>\n",
       "      <th>CAPACITY</th>\n",
       "      <th>NB_SEATS</th>\n",
       "      <th>CAR_MAKER</th>\n",
       "      <th>CAR_MODEL</th>\n",
       "      <th>SUM_INSURED</th>\n",
       "      <th>PROVINCE</th>\n",
       "    </tr>\n",
       "  </thead>\n",
       "  <tbody>\n",
       "    <tr>\n",
       "      <th>0</th>\n",
       "      <td>OT+068084</td>\n",
       "      <td>15C-139.25</td>\n",
       "      <td>2015-04-27</td>\n",
       "      <td>2017-04-27</td>\n",
       "      <td>2,010</td>\n",
       "      <td>C</td>\n",
       "      <td>3500000</td>\n",
       "      <td>0</td>\n",
       "      <td>KH?C</td>\n",
       "      <td>KH?C</td>\n",
       "      <td>1.000000e+09</td>\n",
       "      <td>Khac</td>\n",
       "    </tr>\n",
       "    <tr>\n",
       "      <th>1</th>\n",
       "      <td>OT+57206</td>\n",
       "      <td>92A 01729</td>\n",
       "      <td>2015-04-25</td>\n",
       "      <td>2016-04-25</td>\n",
       "      <td>2,013</td>\n",
       "      <td>K</td>\n",
       "      <td>3500000</td>\n",
       "      <td>5</td>\n",
       "      <td>KH?C</td>\n",
       "      <td>KH?C</td>\n",
       "      <td>6.000000e+08</td>\n",
       "      <td>Khac</td>\n",
       "    </tr>\n",
       "    <tr>\n",
       "      <th>2</th>\n",
       "      <td>OT+56964</td>\n",
       "      <td>92C-033.79</td>\n",
       "      <td>2015-05-19</td>\n",
       "      <td>2016-05-19</td>\n",
       "      <td>2,013</td>\n",
       "      <td>C</td>\n",
       "      <td>3500000</td>\n",
       "      <td>3</td>\n",
       "      <td>KH?C</td>\n",
       "      <td>KH?C</td>\n",
       "      <td>3.000000e+08</td>\n",
       "      <td>Khac</td>\n",
       "    </tr>\n",
       "    <tr>\n",
       "      <th>3</th>\n",
       "      <td>OT+109886</td>\n",
       "      <td>90A-032.03</td>\n",
       "      <td>2015-05-10</td>\n",
       "      <td>2016-05-10</td>\n",
       "      <td>2,008</td>\n",
       "      <td>K</td>\n",
       "      <td>330000</td>\n",
       "      <td>5</td>\n",
       "      <td>HYUNDAI</td>\n",
       "      <td>GETZ</td>\n",
       "      <td>3.000000e+08</td>\n",
       "      <td>Khac</td>\n",
       "    </tr>\n",
       "    <tr>\n",
       "      <th>4</th>\n",
       "      <td>OT+0048532</td>\n",
       "      <td>53M6206</td>\n",
       "      <td>2015-01-12</td>\n",
       "      <td>2016-01-12</td>\n",
       "      <td>2,006</td>\n",
       "      <td>C</td>\n",
       "      <td>133000</td>\n",
       "      <td>23</td>\n",
       "      <td>KHAC</td>\n",
       "      <td>KHAC</td>\n",
       "      <td>2.000000e+08</td>\n",
       "      <td>TPHCM</td>\n",
       "    </tr>\n",
       "    <tr>\n",
       "      <th>...</th>\n",
       "      <td>...</td>\n",
       "      <td>...</td>\n",
       "      <td>...</td>\n",
       "      <td>...</td>\n",
       "      <td>...</td>\n",
       "      <td>...</td>\n",
       "      <td>...</td>\n",
       "      <td>...</td>\n",
       "      <td>...</td>\n",
       "      <td>...</td>\n",
       "      <td>...</td>\n",
       "      <td>...</td>\n",
       "    </tr>\n",
       "    <tr>\n",
       "      <th>100449</th>\n",
       "      <td>XH+7151</td>\n",
       "      <td>51C-28893</td>\n",
       "      <td>2016-06-24</td>\n",
       "      <td>2017-06-24</td>\n",
       "      <td>2013</td>\n",
       "      <td>K</td>\n",
       "      <td>0</td>\n",
       "      <td>3</td>\n",
       "      <td>KHAC</td>\n",
       "      <td>KHAC</td>\n",
       "      <td>4.000000e+08</td>\n",
       "      <td>TPHCM</td>\n",
       "    </tr>\n",
       "    <tr>\n",
       "      <th>100450</th>\n",
       "      <td>OT+169365</td>\n",
       "      <td>51A-56735</td>\n",
       "      <td>2016-01-24</td>\n",
       "      <td>2017-01-24</td>\n",
       "      <td>2008</td>\n",
       "      <td>K</td>\n",
       "      <td>0</td>\n",
       "      <td>10</td>\n",
       "      <td>KH�C</td>\n",
       "      <td>KH�C</td>\n",
       "      <td>5.000000e+08</td>\n",
       "      <td>TPHCM</td>\n",
       "    </tr>\n",
       "    <tr>\n",
       "      <th>100451</th>\n",
       "      <td>OT+0007937</td>\n",
       "      <td>56N-4638</td>\n",
       "      <td>2015-01-14</td>\n",
       "      <td>2016-01-14</td>\n",
       "      <td>2009</td>\n",
       "      <td>K</td>\n",
       "      <td>0</td>\n",
       "      <td>5</td>\n",
       "      <td>TOYOTA</td>\n",
       "      <td>YARIS</td>\n",
       "      <td>4.000000e+08</td>\n",
       "      <td>TPHCM</td>\n",
       "    </tr>\n",
       "    <tr>\n",
       "      <th>100452</th>\n",
       "      <td>OT+0037177</td>\n",
       "      <td></td>\n",
       "      <td>2015-01-30</td>\n",
       "      <td>2016-01-30</td>\n",
       "      <td>2014</td>\n",
       "      <td>C</td>\n",
       "      <td>0</td>\n",
       "      <td>5</td>\n",
       "      <td>HYUNDAI</td>\n",
       "      <td>I10</td>\n",
       "      <td>3.450000e+08</td>\n",
       "      <td>TPHCM</td>\n",
       "    </tr>\n",
       "    <tr>\n",
       "      <th>100453</th>\n",
       "      <td>OT+119156</td>\n",
       "      <td></td>\n",
       "      <td>2015-10-25</td>\n",
       "      <td>2015-04-11</td>\n",
       "      <td>2015</td>\n",
       "      <td>C</td>\n",
       "      <td>0</td>\n",
       "      <td>0</td>\n",
       "      <td>KH�C</td>\n",
       "      <td>KH�C</td>\n",
       "      <td>9.000000e+08</td>\n",
       "      <td>Khac</td>\n",
       "    </tr>\n",
       "  </tbody>\n",
       "</table>\n",
       "<p>100454 rows × 12 columns</p>\n",
       "</div>"
      ],
      "text/plain": [
       "       CERTIFICATE  REG_NUMBER START_DATE   END_DATE MANUFACTURE_YEAR USE  \\\n",
       "0        OT+068084  15C-139.25 2015-04-27 2017-04-27            2,010   C   \n",
       "1         OT+57206   92A 01729 2015-04-25 2016-04-25            2,013   K   \n",
       "2         OT+56964  92C-033.79 2015-05-19 2016-05-19            2,013   C   \n",
       "3        OT+109886  90A-032.03 2015-05-10 2016-05-10            2,008   K   \n",
       "4       OT+0048532     53M6206 2015-01-12 2016-01-12            2,006   C   \n",
       "...            ...         ...        ...        ...              ...  ..   \n",
       "100449     XH+7151   51C-28893 2016-06-24 2017-06-24             2013   K   \n",
       "100450   OT+169365   51A-56735 2016-01-24 2017-01-24             2008   K   \n",
       "100451  OT+0007937    56N-4638 2015-01-14 2016-01-14             2009   K   \n",
       "100452  OT+0037177             2015-01-30 2016-01-30             2014   C   \n",
       "100453   OT+119156             2015-10-25 2015-04-11             2015   C   \n",
       "\n",
       "        CAPACITY  NB_SEATS CAR_MAKER CAR_MODEL   SUM_INSURED PROVINCE  \n",
       "0        3500000         0      KH?C      KH?C  1.000000e+09     Khac  \n",
       "1        3500000         5      KH?C      KH?C  6.000000e+08     Khac  \n",
       "2        3500000         3      KH?C      KH?C  3.000000e+08     Khac  \n",
       "3         330000         5   HYUNDAI      GETZ  3.000000e+08     Khac  \n",
       "4         133000        23      KHAC      KHAC  2.000000e+08    TPHCM  \n",
       "...          ...       ...       ...       ...           ...      ...  \n",
       "100449         0         3      KHAC      KHAC  4.000000e+08    TPHCM  \n",
       "100450         0        10      KH�C      KH�C  5.000000e+08    TPHCM  \n",
       "100451         0         5    TOYOTA     YARIS  4.000000e+08    TPHCM  \n",
       "100452         0         5   HYUNDAI       I10  3.450000e+08    TPHCM  \n",
       "100453         0         0      KH�C      KH�C  9.000000e+08     Khac  \n",
       "\n",
       "[100454 rows x 12 columns]"
      ]
     },
     "execution_count": 14,
     "metadata": {},
     "output_type": "execute_result"
    }
   ],
   "source": [
    "raw_G3"
   ]
  },
  {
   "cell_type": "code",
   "execution_count": 15,
   "id": "c56e0d33",
   "metadata": {
    "scrolled": true
   },
   "outputs": [
    {
     "name": "stderr",
     "output_type": "stream",
     "text": [
      "<ipython-input-15-674abfbcc370>:1: SettingWithCopyWarning: \n",
      "A value is trying to be set on a copy of a slice from a DataFrame\n",
      "\n",
      "See the caveats in the documentation: https://pandas.pydata.org/pandas-docs/stable/user_guide/indexing.html#returning-a-view-versus-a-copy\n",
      "  raw_G3.dropna(inplace = True)\n",
      "<ipython-input-15-674abfbcc370>:2: SettingWithCopyWarning: \n",
      "A value is trying to be set on a copy of a slice from a DataFrame\n",
      "\n",
      "See the caveats in the documentation: https://pandas.pydata.org/pandas-docs/stable/user_guide/indexing.html#returning-a-view-versus-a-copy\n",
      "  raw_C3.dropna(inplace = True)\n"
     ]
    }
   ],
   "source": [
    "raw_G3.dropna(inplace = True)\n",
    "raw_C3.dropna(inplace = True)"
   ]
  },
  {
   "cell_type": "code",
   "execution_count": 16,
   "id": "60fd2244",
   "metadata": {},
   "outputs": [
    {
     "data": {
      "text/plain": [
       "DBH           71\n",
       "DBH+210273     6\n",
       "DBH+210272     6\n",
       "DBH+210274     6\n",
       "DBH+210271     6\n",
       "              ..\n",
       "XH+0250153     1\n",
       "OT+0010919     1\n",
       "XH+0059286     1\n",
       "OT+69879       1\n",
       "XH+198923      1\n",
       "Name: CERTIFICATE, Length: 100117, dtype: int64"
      ]
     },
     "execution_count": 16,
     "metadata": {},
     "output_type": "execute_result"
    }
   ],
   "source": [
    "raw_G3['CERTIFICATE'].value_counts()"
   ]
  },
  {
   "cell_type": "code",
   "execution_count": 17,
   "id": "51f6deb4",
   "metadata": {},
   "outputs": [
    {
     "data": {
      "text/plain": [
       "51619"
      ]
     },
     "execution_count": 17,
     "metadata": {},
     "output_type": "execute_result"
    }
   ],
   "source": [
    "sum(raw_C3['PAID_CLAIM'] >0.0)"
   ]
  },
  {
   "cell_type": "code",
   "execution_count": 18,
   "id": "8236bde3",
   "metadata": {},
   "outputs": [
    {
     "data": {
      "text/plain": [
       "330661037382"
      ]
     },
     "execution_count": 18,
     "metadata": {},
     "output_type": "execute_result"
    }
   ],
   "source": [
    "raw_C3['PAID_CLAIM'].sum()"
   ]
  },
  {
   "cell_type": "code",
   "execution_count": 19,
   "id": "9ffced05",
   "metadata": {},
   "outputs": [],
   "source": [
    "Insur_3 = pd.merge (raw_G3,raw_C3,how ='left',on=['CERTIFICATE'])"
   ]
  },
  {
   "cell_type": "code",
   "execution_count": 20,
   "id": "484a40a4",
   "metadata": {},
   "outputs": [
    {
     "data": {
      "text/plain": [
       "52522"
      ]
     },
     "execution_count": 20,
     "metadata": {},
     "output_type": "execute_result"
    }
   ],
   "source": [
    "sum(Insur_3['PAID_CLAIM']>0)"
   ]
  },
  {
   "cell_type": "code",
   "execution_count": 21,
   "id": "8181a6d3",
   "metadata": {},
   "outputs": [
    {
     "ename": "SyntaxError",
     "evalue": "invalid syntax (<ipython-input-21-b7592fcf89a0>, line 1)",
     "output_type": "error",
     "traceback": [
      "\u001b[1;36m  File \u001b[1;32m\"<ipython-input-21-b7592fcf89a0>\"\u001b[1;36m, line \u001b[1;32m1\u001b[0m\n\u001b[1;33m    raw_C3.\u001b[0m\n\u001b[1;37m           ^\u001b[0m\n\u001b[1;31mSyntaxError\u001b[0m\u001b[1;31m:\u001b[0m invalid syntax\n"
     ]
    }
   ],
   "source": [
    "raw_C3."
   ]
  },
  {
   "cell_type": "code",
   "execution_count": null,
   "id": "186d00ee",
   "metadata": {},
   "outputs": [],
   "source": [
    "Insur_3"
   ]
  },
  {
   "cell_type": "code",
   "execution_count": null,
   "id": "5e830107",
   "metadata": {},
   "outputs": [],
   "source": [
    "Insur_3['PAID_CLAIM'].fillna(0,inplace=True)"
   ]
  },
  {
   "cell_type": "code",
   "execution_count": null,
   "id": "9975ccdb",
   "metadata": {},
   "outputs": [],
   "source": [
    "Insur_3.info()"
   ]
  },
  {
   "cell_type": "code",
   "execution_count": null,
   "id": "b0d5efda",
   "metadata": {},
   "outputs": [],
   "source": [
    "Insur_3.to_excel('Insur_3.xlsx',index=False, engine='xlsxwriter')"
   ]
  },
  {
   "cell_type": "code",
   "execution_count": null,
   "id": "b0b22eb7",
   "metadata": {},
   "outputs": [],
   "source": []
  }
 ],
 "metadata": {
  "kernelspec": {
   "display_name": "Python 3 (ipykernel)",
   "language": "python",
   "name": "python3"
  },
  "language_info": {
   "codemirror_mode": {
    "name": "ipython",
    "version": 3
   },
   "file_extension": ".py",
   "mimetype": "text/x-python",
   "name": "python",
   "nbconvert_exporter": "python",
   "pygments_lexer": "ipython3",
   "version": "3.8.11"
  }
 },
 "nbformat": 4,
 "nbformat_minor": 5
}
